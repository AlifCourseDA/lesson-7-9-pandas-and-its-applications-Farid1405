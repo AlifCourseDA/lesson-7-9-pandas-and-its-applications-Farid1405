{
 "cells": [
  {
   "attachments": {
    "image-2.png": {
     "image/png": "[encoded data removed]"
    }
   },
   "cell_type": "markdown",
   "id": "d47bc8d3",
   "metadata": {
    "slideshow": {
     "slide_type": "slide"
    }
   },
   "source": [
    "![image-2.png](attachment:image-2.png)"
   ]
  },
  {
   "cell_type": "markdown",
   "id": "00dd6fb6",
   "metadata": {
    "slideshow": {
     "slide_type": "fragment"
    }
   },
   "source": [
    "# Модуль 1.1: Python для аналитиков\n",
    "\n",
    "### Урок №9: Аналитическая задача из маркетинга"
   ]
  },
  {
   "cell_type": "markdown",
   "id": "c900c932",
   "metadata": {},
   "source": [
    "Мы разобрали с вами ТЗ от отдела маркетинга на последнем занятии 2023. Теперь давайте добьем это занятие финального состояния ответив на вопросы до конца.. \n",
    "\n",
    "К каждому решению прошу приложить объяснение решения в текстовом виде."
   ]
  },
  {
   "cell_type": "code",
   "execution_count": 2,
   "id": "9d5986dd",
   "metadata": {},
   "outputs": [],
   "source": [
    "import pandas as pd\n",
    "import seaborn as sns\n",
    "import matplotlib.pyplot as plt"
   ]
  },
  {
   "cell_type": "markdown",
   "id": "b0ec8ae7",
   "metadata": {},
   "source": [
    "Представьте, что вы устроились работать аналитиком в отдел рекламы, и ваша первая задача — помочь коллегам разобраться с некоторыми вопросами:\n",
    "\n",
    "- Получить статистику по дням. Посчитать число всех событий по дням, число показов, число кликов, число уникальных объявлений и уникальных кампаний.\n",
    "- Разобраться, почему случился такой скачок 2019-04-05? Каких событий стало больше? У всех объявлений или только у некоторых?\n",
    "- Найти топ 10 объявлений по CTR за все время. CTR — это отношение всех кликов объявлений к просмотрам. Например, если у объявления было 100 показов и 2 клика, CTR = 0.02. Различается ли средний и медианный CTR объявлений в наших данных?\n",
    "- Похоже, в наших логах есть баг, объявления приходят с кликами, но без показов! Сколько таких объявлений, есть ли какие-то закономерности? Эта проблема наблюдается на всех платформах?\n",
    "- Есть ли различия в CTR у объявлений с видео и без? А чему равняется 95 процентиль CTR по всем объявлениям за 2019-04-04?\n",
    "- Для финансового отчета нужно рассчитать наш заработок по дням. В какой день мы заработали больше всего? В какой меньше? Мы списываем с клиентов деньги, если произошел клик по CPC объявлению, и мы списываем деньги за каждый показ CPM объявления, если у CPM объявления цена 200 рублей, то за один показ мы зарабатываем 200 / 1000.\n",
    "- Какая платформа самая популярная для размещения рекламных объявлений? Сколько процентов показов приходится на каждую из платформ (колонка platform)?\n",
    "- А есть ли такие объявления, по которым сначала произошел клик, а только потом показ?\n",
    "   \n",
    "**Описание колонок**\n",
    "\n",
    "**date** — день, в который происходят события\n",
    "\n",
    "**time** — точное время события\n",
    "\n",
    "**event** — тип события, может быть или показ или клик по рекламе\n",
    "\n",
    "**platform** — платформа, на которой произошло рекламное событие\n",
    "\n",
    "**ad_id** — id рекламного объявления\n",
    "\n",
    "**client_union_id** — id рекламного клиента\n",
    "\n",
    "**campaign_union_id** — id рекламной кампании\n",
    "\n",
    "**ad_cost_type** — тип объявления с оплатой за клики (CPC) или за показы (CPM)\n",
    "\n",
    "**ad_cost** — стоимость объявления в рублях, для CPC объявлений — это цена за клик, для CPM — цена за 1000 показов\n",
    "\n",
    "**has_video** — есть ли у рекламного объявления видео  \n",
    "**target_audience_count** — размер аудитории, на которую таргетируется объявление"
   ]
  },
  {
   "cell_type": "code",
   "execution_count": 15,
   "id": "4f0451a9",
   "metadata": {},
   "outputs": [],
   "source": [
    "# Получить статистику по дням. \n",
    "# Просто посчитать число всех событий по дням, число показов, число кликов, число уникальных объявлений и уникальных кампаний.\n",
    "# Разобраться, почему случился такой скачок 2019-04-05? Каких событий стало больше? У всех объявлений или только у некоторых?\n",
    "\n",
    "# Найти топ 10 объявлений по CTR за все время. CTR — это отношение всех просмотров объявления к кликам. Например, если у объявления было 100 показов и 2 клика, CTR = 0.02. Различается ли средний и медианный CTR объявлений в наших данных?\n",
    "\n",
    "# Похоже, в наших логах есть баг, объявления приходят с кликами, но без показов! \n",
    "# Сколько таких объявлений, есть ли какие-то закономерности? Эта проблема наблюдается на всех платформах?\n",
    "\n",
    "# Есть ли различия в CTR у объявлений с видео и без? А чему равняется 95 процентиль CTR по всем объявлениям за 2019-04-04?\n",
    "\n",
    "# Для финансового отчета нужно рассчитать наш заработок по дням. В какой день мы заработали больше всего? В какой меньше? Мы списываем с клиентов деньги, если произошел клик по CPC объявлению, и мы списываем деньги за каждый показ CPM объявления, если у CPM объявления цена - 200 рублей, то за один показ мы зарабатываем 200 / 1000.\n",
    "# Какая платформа самая популярная для размещения рекламных объявлений? Сколько процентов показов приходится на каждую из платформ (колонка platform)?\n",
    "\n",
    "# А есть ли такие объявления, по которым сначала произошел клик, а только потом показ?"
   ]
  },
  {
   "cell_type": "code",
   "execution_count": 3,
   "id": "cc6ec0c0",
   "metadata": {},
   "outputs": [],
   "source": [
    "ads_data = pd.read_csv('lesson_5_ads_data.csv.zip', compression='zip')"
   ]
  },
  {
   "cell_type": "code",
   "execution_count": 17,
   "id": "3e0dd381",
   "metadata": {},
   "outputs": [
    {
     "data": {
      "text/plain": [
       "ad_id                             int64\n",
       "time                              int64\n",
       "event                            object\n",
       "date                     datetime64[ns]\n",
       "ad_cost_type                     object\n",
       "has_video                         int64\n",
       "client_union_id                   int64\n",
       "campaign_union_id                 int64\n",
       "platform                         object\n",
       "ad_cost                         float64\n",
       "target_audience_count             int64\n",
       "user_id                           int64\n",
       "full_date                datetime64[ns]\n",
       "dtype: object"
      ]
     },
     "execution_count": 17,
     "metadata": {},
     "output_type": "execute_result"
    }
   ],
   "source": [
    "ads_data.dtypes"
   ]
  },
  {
   "cell_type": "code",
   "execution_count": 19,
   "id": "626aa4c9",
   "metadata": {},
   "outputs": [
    {
     "name": "stdout",
     "output_type": "stream",
     "text": [
      "<class 'pandas.core.frame.DataFrame'>\n",
      "RangeIndex: 3176714 entries, 0 to 3176713\n",
      "Data columns (total 13 columns):\n",
      " #   Column                 Dtype         \n",
      "---  ------                 -----         \n",
      " 0   ad_id                  int64         \n",
      " 1   time                   int64         \n",
      " 2   event                  object        \n",
      " 3   date                   datetime64[ns]\n",
      " 4   ad_cost_type           object        \n",
      " 5   has_video              int64         \n",
      " 6   client_union_id        int64         \n",
      " 7   campaign_union_id      int64         \n",
      " 8   platform               object        \n",
      " 9   ad_cost                float64       \n",
      " 10  target_audience_count  int64         \n",
      " 11  user_id                int64         \n",
      " 12  full_date              datetime64[ns]\n",
      "dtypes: datetime64[ns](2), float64(1), int64(7), object(3)\n",
      "memory usage: 315.1+ MB\n"
     ]
    }
   ],
   "source": [
    "ads_data.info()"
   ]
  },
  {
   "cell_type": "code",
   "execution_count": 17,
   "id": "7560be09",
   "metadata": {},
   "outputs": [
    {
     "data": {
      "text/html": [
       "<div>\n",
       "<style scoped>\n",
       "    .dataframe tbody tr th:only-of-type {\n",
       "        vertical-align: middle;\n",
       "    }\n",
       "\n",
       "    .dataframe tbody tr th {\n",
       "        vertical-align: top;\n",
       "    }\n",
       "\n",
       "    .dataframe thead th {\n",
       "        text-align: right;\n",
       "    }\n",
       "</style>\n",
       "<table border=\"1\" class=\"dataframe\">\n",
       "  <thead>\n",
       "    <tr style=\"text-align: right;\">\n",
       "      <th></th>\n",
       "      <th>ad_id</th>\n",
       "      <th>time</th>\n",
       "      <th>event</th>\n",
       "      <th>date</th>\n",
       "      <th>ad_cost_type</th>\n",
       "      <th>has_video</th>\n",
       "      <th>client_union_id</th>\n",
       "      <th>campaign_union_id</th>\n",
       "      <th>platform</th>\n",
       "      <th>ad_cost</th>\n",
       "      <th>target_audience_count</th>\n",
       "      <th>user_id</th>\n",
       "      <th>full_date</th>\n",
       "    </tr>\n",
       "  </thead>\n",
       "  <tbody>\n",
       "    <tr>\n",
       "      <th>0</th>\n",
       "      <td>23456</td>\n",
       "      <td>1554076848</td>\n",
       "      <td>view</td>\n",
       "      <td>2019-04-01</td>\n",
       "      <td>CPM</td>\n",
       "      <td>0</td>\n",
       "      <td>5681</td>\n",
       "      <td>23456</td>\n",
       "      <td>android</td>\n",
       "      <td>190.0</td>\n",
       "      <td>125560</td>\n",
       "      <td>793</td>\n",
       "      <td>2019-04-01 00:00:48</td>\n",
       "    </tr>\n",
       "    <tr>\n",
       "      <th>1</th>\n",
       "      <td>111941</td>\n",
       "      <td>1554135866</td>\n",
       "      <td>view</td>\n",
       "      <td>2019-04-01</td>\n",
       "      <td>CPM</td>\n",
       "      <td>0</td>\n",
       "      <td>111793</td>\n",
       "      <td>111941</td>\n",
       "      <td>ios</td>\n",
       "      <td>215.2</td>\n",
       "      <td>32277</td>\n",
       "      <td>1041</td>\n",
       "      <td>2019-04-01 16:24:26</td>\n",
       "    </tr>\n",
       "    <tr>\n",
       "      <th>2</th>\n",
       "      <td>111941</td>\n",
       "      <td>1554135866</td>\n",
       "      <td>view</td>\n",
       "      <td>2019-04-01</td>\n",
       "      <td>CPM</td>\n",
       "      <td>0</td>\n",
       "      <td>111793</td>\n",
       "      <td>111941</td>\n",
       "      <td>ios</td>\n",
       "      <td>215.2</td>\n",
       "      <td>32277</td>\n",
       "      <td>41</td>\n",
       "      <td>2019-04-01 16:24:26</td>\n",
       "    </tr>\n",
       "    <tr>\n",
       "      <th>3</th>\n",
       "      <td>42987</td>\n",
       "      <td>1554135866</td>\n",
       "      <td>view</td>\n",
       "      <td>2019-04-01</td>\n",
       "      <td>CPM</td>\n",
       "      <td>0</td>\n",
       "      <td>28541</td>\n",
       "      <td>42985</td>\n",
       "      <td>ios</td>\n",
       "      <td>199.1</td>\n",
       "      <td>80160</td>\n",
       "      <td>898</td>\n",
       "      <td>2019-04-01 16:24:26</td>\n",
       "    </tr>\n",
       "    <tr>\n",
       "      <th>4</th>\n",
       "      <td>23456</td>\n",
       "      <td>1554135866</td>\n",
       "      <td>view</td>\n",
       "      <td>2019-04-01</td>\n",
       "      <td>CPM</td>\n",
       "      <td>0</td>\n",
       "      <td>5681</td>\n",
       "      <td>23456</td>\n",
       "      <td>web</td>\n",
       "      <td>190.0</td>\n",
       "      <td>125560</td>\n",
       "      <td>29</td>\n",
       "      <td>2019-04-01 16:24:26</td>\n",
       "    </tr>\n",
       "  </tbody>\n",
       "</table>\n",
       "</div>"
      ],
      "text/plain": [
       "    ad_id        time event       date ad_cost_type  has_video  \\\n",
       "0   23456  1554076848  view 2019-04-01          CPM          0   \n",
       "1  111941  1554135866  view 2019-04-01          CPM          0   \n",
       "2  111941  1554135866  view 2019-04-01          CPM          0   \n",
       "3   42987  1554135866  view 2019-04-01          CPM          0   \n",
       "4   23456  1554135866  view 2019-04-01          CPM          0   \n",
       "\n",
       "   client_union_id  campaign_union_id platform  ad_cost  \\\n",
       "0             5681              23456  android    190.0   \n",
       "1           111793             111941      ios    215.2   \n",
       "2           111793             111941      ios    215.2   \n",
       "3            28541              42985      ios    199.1   \n",
       "4             5681              23456      web    190.0   \n",
       "\n",
       "   target_audience_count  user_id           full_date  \n",
       "0                 125560      793 2019-04-01 00:00:48  \n",
       "1                  32277     1041 2019-04-01 16:24:26  \n",
       "2                  32277       41 2019-04-01 16:24:26  \n",
       "3                  80160      898 2019-04-01 16:24:26  \n",
       "4                 125560       29 2019-04-01 16:24:26  "
      ]
     },
     "execution_count": 17,
     "metadata": {},
     "output_type": "execute_result"
    }
   ],
   "source": [
    "ads_data.head()"
   ]
  },
  {
   "cell_type": "code",
   "execution_count": 11,
   "id": "81dcc512",
   "metadata": {},
   "outputs": [],
   "source": [
    "ads_data['full_date'] = pd.to_datetime(ads_data.time, unit='s')"
   ]
  },
  {
   "cell_type": "code",
   "execution_count": 12,
   "id": "da1420a4",
   "metadata": {},
   "outputs": [],
   "source": [
    "ads_data['date'] = pd.to_datetime(ads_data.date)"
   ]
  },
  {
   "cell_type": "code",
   "execution_count": 16,
   "id": "cd717e4f",
   "metadata": {},
   "outputs": [
    {
     "data": {
      "text/html": [
       "<div>\n",
       "<style scoped>\n",
       "    .dataframe tbody tr th:only-of-type {\n",
       "        vertical-align: middle;\n",
       "    }\n",
       "\n",
       "    .dataframe tbody tr th {\n",
       "        vertical-align: top;\n",
       "    }\n",
       "\n",
       "    .dataframe thead th {\n",
       "        text-align: right;\n",
       "    }\n",
       "</style>\n",
       "<table border=\"1\" class=\"dataframe\">\n",
       "  <thead>\n",
       "    <tr style=\"text-align: right;\">\n",
       "      <th></th>\n",
       "      <th>ad_id</th>\n",
       "      <th>time</th>\n",
       "      <th>event</th>\n",
       "      <th>date</th>\n",
       "      <th>ad_cost_type</th>\n",
       "      <th>has_video</th>\n",
       "      <th>client_union_id</th>\n",
       "      <th>campaign_union_id</th>\n",
       "      <th>platform</th>\n",
       "      <th>ad_cost</th>\n",
       "      <th>target_audience_count</th>\n",
       "      <th>user_id</th>\n",
       "      <th>full_date</th>\n",
       "    </tr>\n",
       "  </thead>\n",
       "  <tbody>\n",
       "    <tr>\n",
       "      <th>0</th>\n",
       "      <td>23456</td>\n",
       "      <td>1554076848</td>\n",
       "      <td>view</td>\n",
       "      <td>2019-04-01</td>\n",
       "      <td>CPM</td>\n",
       "      <td>0</td>\n",
       "      <td>5681</td>\n",
       "      <td>23456</td>\n",
       "      <td>android</td>\n",
       "      <td>190.0</td>\n",
       "      <td>125560</td>\n",
       "      <td>793</td>\n",
       "      <td>2019-04-01 00:00:48</td>\n",
       "    </tr>\n",
       "    <tr>\n",
       "      <th>1</th>\n",
       "      <td>111941</td>\n",
       "      <td>1554135866</td>\n",
       "      <td>view</td>\n",
       "      <td>2019-04-01</td>\n",
       "      <td>CPM</td>\n",
       "      <td>0</td>\n",
       "      <td>111793</td>\n",
       "      <td>111941</td>\n",
       "      <td>ios</td>\n",
       "      <td>215.2</td>\n",
       "      <td>32277</td>\n",
       "      <td>1041</td>\n",
       "      <td>2019-04-01 16:24:26</td>\n",
       "    </tr>\n",
       "    <tr>\n",
       "      <th>2</th>\n",
       "      <td>111941</td>\n",
       "      <td>1554135866</td>\n",
       "      <td>view</td>\n",
       "      <td>2019-04-01</td>\n",
       "      <td>CPM</td>\n",
       "      <td>0</td>\n",
       "      <td>111793</td>\n",
       "      <td>111941</td>\n",
       "      <td>ios</td>\n",
       "      <td>215.2</td>\n",
       "      <td>32277</td>\n",
       "      <td>41</td>\n",
       "      <td>2019-04-01 16:24:26</td>\n",
       "    </tr>\n",
       "    <tr>\n",
       "      <th>3</th>\n",
       "      <td>42987</td>\n",
       "      <td>1554135866</td>\n",
       "      <td>view</td>\n",
       "      <td>2019-04-01</td>\n",
       "      <td>CPM</td>\n",
       "      <td>0</td>\n",
       "      <td>28541</td>\n",
       "      <td>42985</td>\n",
       "      <td>ios</td>\n",
       "      <td>199.1</td>\n",
       "      <td>80160</td>\n",
       "      <td>898</td>\n",
       "      <td>2019-04-01 16:24:26</td>\n",
       "    </tr>\n",
       "    <tr>\n",
       "      <th>4</th>\n",
       "      <td>23456</td>\n",
       "      <td>1554135866</td>\n",
       "      <td>view</td>\n",
       "      <td>2019-04-01</td>\n",
       "      <td>CPM</td>\n",
       "      <td>0</td>\n",
       "      <td>5681</td>\n",
       "      <td>23456</td>\n",
       "      <td>web</td>\n",
       "      <td>190.0</td>\n",
       "      <td>125560</td>\n",
       "      <td>29</td>\n",
       "      <td>2019-04-01 16:24:26</td>\n",
       "    </tr>\n",
       "  </tbody>\n",
       "</table>\n",
       "</div>"
      ],
      "text/plain": [
       "    ad_id        time event       date ad_cost_type  has_video  \\\n",
       "0   23456  1554076848  view 2019-04-01          CPM          0   \n",
       "1  111941  1554135866  view 2019-04-01          CPM          0   \n",
       "2  111941  1554135866  view 2019-04-01          CPM          0   \n",
       "3   42987  1554135866  view 2019-04-01          CPM          0   \n",
       "4   23456  1554135866  view 2019-04-01          CPM          0   \n",
       "\n",
       "   client_union_id  campaign_union_id platform  ad_cost  \\\n",
       "0             5681              23456  android    190.0   \n",
       "1           111793             111941      ios    215.2   \n",
       "2           111793             111941      ios    215.2   \n",
       "3            28541              42985      ios    199.1   \n",
       "4             5681              23456      web    190.0   \n",
       "\n",
       "   target_audience_count  user_id           full_date  \n",
       "0                 125560      793 2019-04-01 00:00:48  \n",
       "1                  32277     1041 2019-04-01 16:24:26  \n",
       "2                  32277       41 2019-04-01 16:24:26  \n",
       "3                  80160      898 2019-04-01 16:24:26  \n",
       "4                 125560       29 2019-04-01 16:24:26  "
      ]
     },
     "execution_count": 16,
     "metadata": {},
     "output_type": "execute_result"
    }
   ],
   "source": [
    "ads_data.head()"
   ]
  },
  {
   "cell_type": "code",
   "execution_count": 34,
   "id": "f0473304",
   "metadata": {},
   "outputs": [
    {
     "data": {
      "text/plain": [
       "Index(['ad_id', 'time', 'event', 'date', 'ad_cost_type', 'has_video',\n",
       "       'client_union_id', 'campaign_union_id', 'platform', 'ad_cost',\n",
       "       'target_audience_count', 'user_id', 'full_date'],\n",
       "      dtype='object')"
      ]
     },
     "execution_count": 34,
     "metadata": {},
     "output_type": "execute_result"
    }
   ],
   "source": [
    "ads_data.shape\n",
    "ads_data.columns"
   ]
  },
  {
   "cell_type": "code",
   "execution_count": 35,
   "id": "df9240eb",
   "metadata": {},
   "outputs": [],
   "source": [
    "# Получить статистику по дням. \n",
    "# Просто посчитать число всех событий по дням, число показов, число кликов, число уникальных объявлений и уникальных кампаний.\n",
    "# Разобраться, почему случился такой скачок 2019-04-05? Каких событий стало больше? У всех объявлений или только у некоторых?"
   ]
  },
  {
   "cell_type": "code",
   "execution_count": 18,
   "id": "1284cd1a",
   "metadata": {},
   "outputs": [
    {
     "data": {
      "text/plain": [
       "<AxesSubplot:xlabel='date'>"
      ]
     },
     "execution_count": 18,
     "metadata": {},
     "output_type": "execute_result"
    },
    {
     "data": {
      "image/png": "[encoded data removed]",
      "text/plain": [
       "<Figure size 432x288 with 1 Axes>"
      ]
     },
     "metadata": {
      "needs_background": "light"
     },
     "output_type": "display_data"
    }
   ],
   "source": [
    "(ads_data.groupby('date')\n",
    ".agg({'ad_id': 'count'}).plot())"
   ]
  },
  {
   "cell_type": "code",
   "execution_count": 45,
   "id": "5c1f15d7",
   "metadata": {},
   "outputs": [
    {
     "data": {
      "text/html": [
       "<div>\n",
       "<style scoped>\n",
       "    .dataframe tbody tr th:only-of-type {\n",
       "        vertical-align: middle;\n",
       "    }\n",
       "\n",
       "    .dataframe tbody tr th {\n",
       "        vertical-align: top;\n",
       "    }\n",
       "\n",
       "    .dataframe thead th {\n",
       "        text-align: right;\n",
       "    }\n",
       "</style>\n",
       "<table border=\"1\" class=\"dataframe\">\n",
       "  <thead>\n",
       "    <tr style=\"text-align: right;\">\n",
       "      <th>event</th>\n",
       "      <th>date</th>\n",
       "      <th>click</th>\n",
       "      <th>view</th>\n",
       "    </tr>\n",
       "  </thead>\n",
       "  <tbody>\n",
       "    <tr>\n",
       "      <th>0</th>\n",
       "      <td>2019-04-01</td>\n",
       "      <td>735</td>\n",
       "      <td>34832</td>\n",
       "    </tr>\n",
       "    <tr>\n",
       "      <th>1</th>\n",
       "      <td>2019-04-02</td>\n",
       "      <td>1518</td>\n",
       "      <td>145811</td>\n",
       "    </tr>\n",
       "    <tr>\n",
       "      <th>2</th>\n",
       "      <td>2019-04-03</td>\n",
       "      <td>1678</td>\n",
       "      <td>214851</td>\n",
       "    </tr>\n",
       "    <tr>\n",
       "      <th>3</th>\n",
       "      <td>2019-04-04</td>\n",
       "      <td>1517</td>\n",
       "      <td>126182</td>\n",
       "    </tr>\n",
       "    <tr>\n",
       "      <th>4</th>\n",
       "      <td>2019-04-05</td>\n",
       "      <td>501595</td>\n",
       "      <td>1783288</td>\n",
       "    </tr>\n",
       "    <tr>\n",
       "      <th>5</th>\n",
       "      <td>2019-04-06</td>\n",
       "      <td>80420</td>\n",
       "      <td>284287</td>\n",
       "    </tr>\n",
       "  </tbody>\n",
       "</table>\n",
       "</div>"
      ],
      "text/plain": [
       "event       date   click     view\n",
       "0     2019-04-01     735    34832\n",
       "1     2019-04-02    1518   145811\n",
       "2     2019-04-03    1678   214851\n",
       "3     2019-04-04    1517   126182\n",
       "4     2019-04-05  501595  1783288\n",
       "5     2019-04-06   80420   284287"
      ]
     },
     "execution_count": 45,
     "metadata": {},
     "output_type": "execute_result"
    }
   ],
   "source": [
    "ads_data.groupby(['date', 'event'], as_index=False) \\\n",
    "    .agg({'ad_id': 'count'}) \\\n",
    "    .pivot(index='date', columns='event', values='ad_id')\\\n",
    "    .reset_index()"
   ]
  },
  {
   "cell_type": "code",
   "execution_count": 47,
   "id": "003bbcfc",
   "metadata": {},
   "outputs": [
    {
     "data": {
      "text/html": [
       "<div>\n",
       "<style scoped>\n",
       "    .dataframe tbody tr th:only-of-type {\n",
       "        vertical-align: middle;\n",
       "    }\n",
       "\n",
       "    .dataframe tbody tr th {\n",
       "        vertical-align: top;\n",
       "    }\n",
       "\n",
       "    .dataframe thead th {\n",
       "        text-align: right;\n",
       "    }\n",
       "</style>\n",
       "<table border=\"1\" class=\"dataframe\">\n",
       "  <thead>\n",
       "    <tr style=\"text-align: right;\">\n",
       "      <th></th>\n",
       "      <th>time</th>\n",
       "    </tr>\n",
       "    <tr>\n",
       "      <th>ad_id</th>\n",
       "      <th></th>\n",
       "    </tr>\n",
       "  </thead>\n",
       "  <tbody>\n",
       "    <tr>\n",
       "      <th>112583</th>\n",
       "      <td>2166611</td>\n",
       "    </tr>\n",
       "    <tr>\n",
       "      <th>29927</th>\n",
       "      <td>27186</td>\n",
       "    </tr>\n",
       "    <tr>\n",
       "      <th>44635</th>\n",
       "      <td>8268</td>\n",
       "    </tr>\n",
       "    <tr>\n",
       "      <th>46583</th>\n",
       "      <td>7327</td>\n",
       "    </tr>\n",
       "    <tr>\n",
       "      <th>44956</th>\n",
       "      <td>5656</td>\n",
       "    </tr>\n",
       "  </tbody>\n",
       "</table>\n",
       "</div>"
      ],
      "text/plain": [
       "           time\n",
       "ad_id          \n",
       "112583  2166611\n",
       "29927     27186\n",
       "44635      8268\n",
       "46583      7327\n",
       "44956      5656"
      ]
     },
     "execution_count": 47,
     "metadata": {},
     "output_type": "execute_result"
    }
   ],
   "source": [
    "ads_data[ads_data.date == '2019-04-05'] \\\n",
    "    .groupby('ad_id') \\\n",
    "    .agg({'time': 'count'}) \\\n",
    "    .sort_values('time', ascending=False) \\\n",
    "    .head()"
   ]
  },
  {
   "cell_type": "code",
   "execution_count": 49,
   "id": "5bcdedd6",
   "metadata": {},
   "outputs": [],
   "source": [
    "ad_id = 112583"
   ]
  },
  {
   "cell_type": "code",
   "execution_count": 53,
   "id": "cd576e1c",
   "metadata": {},
   "outputs": [
    {
     "data": {
      "text/html": [
       "<div>\n",
       "<style scoped>\n",
       "    .dataframe tbody tr th:only-of-type {\n",
       "        vertical-align: middle;\n",
       "    }\n",
       "\n",
       "    .dataframe tbody tr th {\n",
       "        vertical-align: top;\n",
       "    }\n",
       "\n",
       "    .dataframe thead th {\n",
       "        text-align: right;\n",
       "    }\n",
       "</style>\n",
       "<table border=\"1\" class=\"dataframe\">\n",
       "  <thead>\n",
       "    <tr style=\"text-align: right;\">\n",
       "      <th></th>\n",
       "      <th>ad_id</th>\n",
       "      <th>time</th>\n",
       "      <th>has_video</th>\n",
       "      <th>client_union_id</th>\n",
       "      <th>campaign_union_id</th>\n",
       "      <th>ad_cost</th>\n",
       "      <th>target_audience_count</th>\n",
       "      <th>user_id</th>\n",
       "    </tr>\n",
       "  </thead>\n",
       "  <tbody>\n",
       "    <tr>\n",
       "      <th>count</th>\n",
       "      <td>3.176714e+06</td>\n",
       "      <td>3.176714e+06</td>\n",
       "      <td>3.176714e+06</td>\n",
       "      <td>3.176714e+06</td>\n",
       "      <td>3.176714e+06</td>\n",
       "      <td>3.176714e+06</td>\n",
       "      <td>3.176714e+06</td>\n",
       "      <td>3.176714e+06</td>\n",
       "    </tr>\n",
       "    <tr>\n",
       "      <th>mean</th>\n",
       "      <td>1.028316e+05</td>\n",
       "      <td>1.554441e+09</td>\n",
       "      <td>2.255161e-03</td>\n",
       "      <td>1.008235e+05</td>\n",
       "      <td>1.025734e+05</td>\n",
       "      <td>1.946914e+02</td>\n",
       "      <td>8.359324e+05</td>\n",
       "      <td>4.167535e+03</td>\n",
       "    </tr>\n",
       "    <tr>\n",
       "      <th>std</th>\n",
       "      <td>2.557407e+04</td>\n",
       "      <td>8.225481e+04</td>\n",
       "      <td>4.743496e-02</td>\n",
       "      <td>2.909663e+04</td>\n",
       "      <td>2.547980e+04</td>\n",
       "      <td>2.478399e+01</td>\n",
       "      <td>6.136294e+06</td>\n",
       "      <td>2.038522e+03</td>\n",
       "    </tr>\n",
       "    <tr>\n",
       "      <th>min</th>\n",
       "      <td>3.000000e+00</td>\n",
       "      <td>1.554077e+09</td>\n",
       "      <td>0.000000e+00</td>\n",
       "      <td>1.000000e+00</td>\n",
       "      <td>1.000000e+00</td>\n",
       "      <td>4.240000e+01</td>\n",
       "      <td>1.860000e+02</td>\n",
       "      <td>1.000000e+00</td>\n",
       "    </tr>\n",
       "    <tr>\n",
       "      <th>25%</th>\n",
       "      <td>1.125830e+05</td>\n",
       "      <td>1.554447e+09</td>\n",
       "      <td>0.000000e+00</td>\n",
       "      <td>1.118180e+05</td>\n",
       "      <td>1.122600e+05</td>\n",
       "      <td>1.994000e+02</td>\n",
       "      <td>2.394080e+05</td>\n",
       "      <td>2.508000e+03</td>\n",
       "    </tr>\n",
       "    <tr>\n",
       "      <th>50%</th>\n",
       "      <td>1.125830e+05</td>\n",
       "      <td>1.554470e+09</td>\n",
       "      <td>0.000000e+00</td>\n",
       "      <td>1.118180e+05</td>\n",
       "      <td>1.122600e+05</td>\n",
       "      <td>1.994000e+02</td>\n",
       "      <td>2.394080e+05</td>\n",
       "      <td>4.421000e+03</td>\n",
       "    </tr>\n",
       "    <tr>\n",
       "      <th>75%</th>\n",
       "      <td>1.125830e+05</td>\n",
       "      <td>1.554488e+09</td>\n",
       "      <td>0.000000e+00</td>\n",
       "      <td>1.118180e+05</td>\n",
       "      <td>1.122600e+05</td>\n",
       "      <td>1.994000e+02</td>\n",
       "      <td>2.394080e+05</td>\n",
       "      <td>5.855000e+03</td>\n",
       "    </tr>\n",
       "    <tr>\n",
       "      <th>max</th>\n",
       "      <td>1.220860e+05</td>\n",
       "      <td>1.554509e+09</td>\n",
       "      <td>1.000000e+00</td>\n",
       "      <td>1.220860e+05</td>\n",
       "      <td>1.220860e+05</td>\n",
       "      <td>2.254000e+02</td>\n",
       "      <td>1.549714e+08</td>\n",
       "      <td>8.490000e+03</td>\n",
       "    </tr>\n",
       "  </tbody>\n",
       "</table>\n",
       "</div>"
      ],
      "text/plain": [
       "              ad_id          time     has_video  client_union_id  \\\n",
       "count  3.176714e+06  3.176714e+06  3.176714e+06     3.176714e+06   \n",
       "mean   1.028316e+05  1.554441e+09  2.255161e-03     1.008235e+05   \n",
       "std    2.557407e+04  8.225481e+04  4.743496e-02     2.909663e+04   \n",
       "min    3.000000e+00  1.554077e+09  0.000000e+00     1.000000e+00   \n",
       "25%    1.125830e+05  1.554447e+09  0.000000e+00     1.118180e+05   \n",
       "50%    1.125830e+05  1.554470e+09  0.000000e+00     1.118180e+05   \n",
       "75%    1.125830e+05  1.554488e+09  0.000000e+00     1.118180e+05   \n",
       "max    1.220860e+05  1.554509e+09  1.000000e+00     1.220860e+05   \n",
       "\n",
       "       campaign_union_id       ad_cost  target_audience_count       user_id  \n",
       "count       3.176714e+06  3.176714e+06           3.176714e+06  3.176714e+06  \n",
       "mean        1.025734e+05  1.946914e+02           8.359324e+05  4.167535e+03  \n",
       "std         2.547980e+04  2.478399e+01           6.136294e+06  2.038522e+03  \n",
       "min         1.000000e+00  4.240000e+01           1.860000e+02  1.000000e+00  \n",
       "25%         1.122600e+05  1.994000e+02           2.394080e+05  2.508000e+03  \n",
       "50%         1.122600e+05  1.994000e+02           2.394080e+05  4.421000e+03  \n",
       "75%         1.122600e+05  1.994000e+02           2.394080e+05  5.855000e+03  \n",
       "max         1.220860e+05  2.254000e+02           1.549714e+08  8.490000e+03  "
      ]
     },
     "execution_count": 53,
     "metadata": {},
     "output_type": "execute_result"
    }
   ],
   "source": [
    "ads_data.describe()"
   ]
  },
  {
   "cell_type": "code",
   "execution_count": 56,
   "id": "2a962942",
   "metadata": {},
   "outputs": [
    {
     "data": {
      "text/html": [
       "<div>\n",
       "<style scoped>\n",
       "    .dataframe tbody tr th:only-of-type {\n",
       "        vertical-align: middle;\n",
       "    }\n",
       "\n",
       "    .dataframe tbody tr th {\n",
       "        vertical-align: top;\n",
       "    }\n",
       "\n",
       "    .dataframe thead th {\n",
       "        text-align: right;\n",
       "    }\n",
       "</style>\n",
       "<table border=\"1\" class=\"dataframe\">\n",
       "  <thead>\n",
       "    <tr style=\"text-align: right;\">\n",
       "      <th></th>\n",
       "      <th>ad_id</th>\n",
       "      <th>time</th>\n",
       "      <th>event</th>\n",
       "      <th>date</th>\n",
       "      <th>ad_cost_type</th>\n",
       "      <th>has_video</th>\n",
       "      <th>client_union_id</th>\n",
       "      <th>campaign_union_id</th>\n",
       "      <th>platform</th>\n",
       "      <th>ad_cost</th>\n",
       "      <th>target_audience_count</th>\n",
       "      <th>user_id</th>\n",
       "      <th>full_date</th>\n",
       "    </tr>\n",
       "  </thead>\n",
       "  <tbody>\n",
       "    <tr>\n",
       "      <th>527124</th>\n",
       "      <td>112583</td>\n",
       "      <td>1554480636</td>\n",
       "      <td>view</td>\n",
       "      <td>2019-04-05</td>\n",
       "      <td>CPM</td>\n",
       "      <td>0</td>\n",
       "      <td>111818</td>\n",
       "      <td>112260</td>\n",
       "      <td>web</td>\n",
       "      <td>199.4</td>\n",
       "      <td>239408</td>\n",
       "      <td>4355</td>\n",
       "      <td>2019-04-05 16:10:36</td>\n",
       "    </tr>\n",
       "  </tbody>\n",
       "</table>\n",
       "</div>"
      ],
      "text/plain": [
       "         ad_id        time event       date ad_cost_type  has_video  \\\n",
       "527124  112583  1554480636  view 2019-04-05          CPM          0   \n",
       "\n",
       "        client_union_id  campaign_union_id platform  ad_cost  \\\n",
       "527124           111818             112260      web    199.4   \n",
       "\n",
       "        target_audience_count  user_id           full_date  \n",
       "527124                 239408     4355 2019-04-05 16:10:36  "
      ]
     },
     "execution_count": 56,
     "metadata": {},
     "output_type": "execute_result"
    }
   ],
   "source": [
    "ads_data.query('ad_id == @ad_id').head(1)\n"
   ]
  },
  {
   "cell_type": "code",
   "execution_count": null,
   "id": "3b839504",
   "metadata": {},
   "outputs": [],
   "source": []
  },
  {
   "cell_type": "code",
   "execution_count": null,
   "id": "732a88cf",
   "metadata": {},
   "outputs": [],
   "source": []
  },
  {
   "cell_type": "code",
   "execution_count": 72,
   "id": "2c7517aa",
   "metadata": {},
   "outputs": [],
   "source": [
    "# Найти топ 10 объявлений по CTR за все время. CTR — это отношение всех просмотров объявления к кликам. \n",
    "# Например, если у объявления было 100 показов и 2 клика, CTR = 0.02. \n",
    "# Различается ли средний и медианный CTR объявлений в наших данных?"
   ]
  },
  {
   "cell_type": "code",
   "execution_count": 58,
   "id": "96310297",
   "metadata": {},
   "outputs": [],
   "source": [
    "ads_data_by_ad = ads_data.groupby(['ad_id', 'event'], as_index=False) \\\n",
    "    .agg({'time': 'count'}) \\\n",
    "    .pivot(index='ad_id', columns='event', values='time').reset_index()"
   ]
  },
  {
   "cell_type": "code",
   "execution_count": 2,
   "id": "e5e9dacd",
   "metadata": {},
   "outputs": [
    {
     "name": "stdout",
     "output_type": "stream",
     "text": [
      "Object `ads_data_by_ad.pivot()` not found.\n"
     ]
    }
   ],
   "source": [
    "ads_data_by_ad.pivot"
   ]
  },
  {
   "cell_type": "code",
   "execution_count": 60,
   "id": "fccc5343",
   "metadata": {},
   "outputs": [],
   "source": [
    "ads_data_by_ad = ads_data_by_ad.assign(ctr = ads_data_by_ad.click / ads_data_by_ad.view, \n",
    "                           ctr_per = 100 * ads_data_by_ad.click / ads_data_by_ad.view)"
   ]
  },
  {
   "cell_type": "code",
   "execution_count": 62,
   "id": "d37d88fc",
   "metadata": {},
   "outputs": [
    {
     "data": {
      "text/html": [
       "<div>\n",
       "<style scoped>\n",
       "    .dataframe tbody tr th:only-of-type {\n",
       "        vertical-align: middle;\n",
       "    }\n",
       "\n",
       "    .dataframe tbody tr th {\n",
       "        vertical-align: top;\n",
       "    }\n",
       "\n",
       "    .dataframe thead th {\n",
       "        text-align: right;\n",
       "    }\n",
       "</style>\n",
       "<table border=\"1\" class=\"dataframe\">\n",
       "  <thead>\n",
       "    <tr style=\"text-align: right;\">\n",
       "      <th>event</th>\n",
       "      <th>ad_id</th>\n",
       "      <th>click</th>\n",
       "      <th>view</th>\n",
       "      <th>ctr</th>\n",
       "      <th>ctr_per</th>\n",
       "    </tr>\n",
       "  </thead>\n",
       "  <tbody>\n",
       "    <tr>\n",
       "      <th>289</th>\n",
       "      <td>112583</td>\n",
       "      <td>580436.0</td>\n",
       "      <td>1934788.0</td>\n",
       "      <td>0.300000</td>\n",
       "      <td>29.999979</td>\n",
       "    </tr>\n",
       "    <tr>\n",
       "      <th>324</th>\n",
       "      <td>119450</td>\n",
       "      <td>258.0</td>\n",
       "      <td>1254.0</td>\n",
       "      <td>0.205742</td>\n",
       "      <td>20.574163</td>\n",
       "    </tr>\n",
       "    <tr>\n",
       "      <th>125</th>\n",
       "      <td>38575</td>\n",
       "      <td>43.0</td>\n",
       "      <td>257.0</td>\n",
       "      <td>0.167315</td>\n",
       "      <td>16.731518</td>\n",
       "    </tr>\n",
       "    <tr>\n",
       "      <th>144</th>\n",
       "      <td>40968</td>\n",
       "      <td>29.0</td>\n",
       "      <td>217.0</td>\n",
       "      <td>0.133641</td>\n",
       "      <td>13.364055</td>\n",
       "    </tr>\n",
       "    <tr>\n",
       "      <th>207</th>\n",
       "      <td>45642</td>\n",
       "      <td>42.0</td>\n",
       "      <td>344.0</td>\n",
       "      <td>0.122093</td>\n",
       "      <td>12.209302</td>\n",
       "    </tr>\n",
       "    <tr>\n",
       "      <th>283</th>\n",
       "      <td>110924</td>\n",
       "      <td>11.0</td>\n",
       "      <td>95.0</td>\n",
       "      <td>0.115789</td>\n",
       "      <td>11.578947</td>\n",
       "    </tr>\n",
       "    <tr>\n",
       "      <th>194</th>\n",
       "      <td>45043</td>\n",
       "      <td>28.0</td>\n",
       "      <td>245.0</td>\n",
       "      <td>0.114286</td>\n",
       "      <td>11.428571</td>\n",
       "    </tr>\n",
       "    <tr>\n",
       "      <th>96</th>\n",
       "      <td>35034</td>\n",
       "      <td>112.0</td>\n",
       "      <td>997.0</td>\n",
       "      <td>0.112337</td>\n",
       "      <td>11.233701</td>\n",
       "    </tr>\n",
       "    <tr>\n",
       "      <th>5</th>\n",
       "      <td>4585</td>\n",
       "      <td>53.0</td>\n",
       "      <td>476.0</td>\n",
       "      <td>0.111345</td>\n",
       "      <td>11.134454</td>\n",
       "    </tr>\n",
       "    <tr>\n",
       "      <th>328</th>\n",
       "      <td>120347</td>\n",
       "      <td>236.0</td>\n",
       "      <td>2168.0</td>\n",
       "      <td>0.108856</td>\n",
       "      <td>10.885609</td>\n",
       "    </tr>\n",
       "  </tbody>\n",
       "</table>\n",
       "</div>"
      ],
      "text/plain": [
       "event   ad_id     click       view       ctr    ctr_per\n",
       "289    112583  580436.0  1934788.0  0.300000  29.999979\n",
       "324    119450     258.0     1254.0  0.205742  20.574163\n",
       "125     38575      43.0      257.0  0.167315  16.731518\n",
       "144     40968      29.0      217.0  0.133641  13.364055\n",
       "207     45642      42.0      344.0  0.122093  12.209302\n",
       "283    110924      11.0       95.0  0.115789  11.578947\n",
       "194     45043      28.0      245.0  0.114286  11.428571\n",
       "96      35034     112.0      997.0  0.112337  11.233701\n",
       "5        4585      53.0      476.0  0.111345  11.134454\n",
       "328    120347     236.0     2168.0  0.108856  10.885609"
      ]
     },
     "execution_count": 62,
     "metadata": {},
     "output_type": "execute_result"
    }
   ],
   "source": [
    "ads_data_by_ad.sort_values('ctr', ascending=False).head(10)"
   ]
  },
  {
   "cell_type": "code",
   "execution_count": 65,
   "id": "cff4d70a",
   "metadata": {},
   "outputs": [
    {
     "data": {
      "text/plain": [
       "count    306.000000\n",
       "mean       0.020628\n",
       "std        0.030360\n",
       "min        0.000451\n",
       "25%        0.005943\n",
       "50%        0.010753\n",
       "75%        0.024072\n",
       "max        0.300000\n",
       "Name: ctr, dtype: float64"
      ]
     },
     "execution_count": 65,
     "metadata": {},
     "output_type": "execute_result"
    }
   ],
   "source": [
    "ads_data_by_ad.ctr.describe()"
   ]
  },
  {
   "cell_type": "code",
   "execution_count": 64,
   "id": "6c33d7f5",
   "metadata": {},
   "outputs": [
    {
     "data": {
      "text/plain": [
       "0.020628096080757965"
      ]
     },
     "execution_count": 64,
     "metadata": {},
     "output_type": "execute_result"
    }
   ],
   "source": [
    "ads_data_by_ad.ctr.mean()"
   ]
  },
  {
   "cell_type": "code",
   "execution_count": 110,
   "id": "7dc32c6e",
   "metadata": {},
   "outputs": [
    {
     "data": {
      "text/plain": [
       "0.010753240746688594"
      ]
     },
     "execution_count": 110,
     "metadata": {},
     "output_type": "execute_result"
    }
   ],
   "source": [
    "ads_data_by_ad.ctr.median()"
   ]
  },
  {
   "cell_type": "code",
   "execution_count": 66,
   "id": "c3269bec",
   "metadata": {},
   "outputs": [
    {
     "name": "stderr",
     "output_type": "stream",
     "text": [
      "/Users/otabekmamatkulov/opt/anaconda3/lib/python3.9/site-packages/seaborn/distributions.py:2619: FutureWarning: `distplot` is a deprecated function and will be removed in a future version. Please adapt your code to use either `displot` (a figure-level function with similar flexibility) or `histplot` (an axes-level function for histograms).\n",
      "  warnings.warn(msg, FutureWarning)\n"
     ]
    },
    {
     "data": {
      "text/plain": [
       "<AxesSubplot:xlabel='ctr'>"
      ]
     },
     "execution_count": 66,
     "metadata": {},
     "output_type": "execute_result"
    },
    {
     "data": {
      "image/png": "[encoded data removed]",
      "text/plain": [
       "<Figure size 640x480 with 1 Axes>"
      ]
     },
     "metadata": {},
     "output_type": "display_data"
    }
   ],
   "source": [
    "sns.distplot(ads_data_by_ad.ctr, kde=False)"
   ]
  },
  {
   "cell_type": "code",
   "execution_count": 86,
   "id": "7745336f",
   "metadata": {},
   "outputs": [],
   "source": [
    "# Похоже, в наших логах есть баг, объявления приходят с кликами, но без показов! \n",
    "# Сколько таких объявлений, есть ли какие-то закономерности? Эта проблема наблюдается на всех платформах?"
   ]
  },
  {
   "cell_type": "code",
   "execution_count": 74,
   "id": "dbb08b00",
   "metadata": {},
   "outputs": [],
   "source": [
    "ads_data_by_ad = ads_data_by_ad.fillna(0)"
   ]
  },
  {
   "cell_type": "code",
   "execution_count": 75,
   "id": "363c0555",
   "metadata": {},
   "outputs": [],
   "source": [
    "ads_ids_bug = ads_data_by_ad.query('view == 0').ad_id"
   ]
  },
  {
   "cell_type": "code",
   "execution_count": 80,
   "id": "df3cd5a8",
   "metadata": {},
   "outputs": [
    {
     "data": {
      "text/plain": [
       "50      25665\n",
       "77      30381\n",
       "150     41424\n",
       "161     42241\n",
       "213     45866\n",
       "219     46363\n",
       "224     46544\n",
       "294    113348\n",
       "331    120444\n",
       "Name: ad_id, dtype: int64"
      ]
     },
     "execution_count": 80,
     "metadata": {},
     "output_type": "execute_result"
    }
   ],
   "source": [
    "ads_ids_bug"
   ]
  },
  {
   "cell_type": "code",
   "execution_count": 81,
   "id": "c89bb6d9",
   "metadata": {},
   "outputs": [
    {
     "data": {
      "text/plain": [
       "9"
      ]
     },
     "execution_count": 81,
     "metadata": {},
     "output_type": "execute_result"
    }
   ],
   "source": [
    "len(ads_ids_bug)"
   ]
  },
  {
   "cell_type": "code",
   "execution_count": 83,
   "id": "95a33b4e",
   "metadata": {},
   "outputs": [
    {
     "data": {
      "text/html": [
       "<div>\n",
       "<style scoped>\n",
       "    .dataframe tbody tr th:only-of-type {\n",
       "        vertical-align: middle;\n",
       "    }\n",
       "\n",
       "    .dataframe tbody tr th {\n",
       "        vertical-align: top;\n",
       "    }\n",
       "\n",
       "    .dataframe thead th {\n",
       "        text-align: right;\n",
       "    }\n",
       "</style>\n",
       "<table border=\"1\" class=\"dataframe\">\n",
       "  <thead>\n",
       "    <tr style=\"text-align: right;\">\n",
       "      <th></th>\n",
       "      <th>platform</th>\n",
       "      <th>ad_id</th>\n",
       "    </tr>\n",
       "  </thead>\n",
       "  <tbody>\n",
       "    <tr>\n",
       "      <th>2</th>\n",
       "      <td>web</td>\n",
       "      <td>53</td>\n",
       "    </tr>\n",
       "    <tr>\n",
       "      <th>1</th>\n",
       "      <td>ios</td>\n",
       "      <td>92</td>\n",
       "    </tr>\n",
       "    <tr>\n",
       "      <th>0</th>\n",
       "      <td>android</td>\n",
       "      <td>141</td>\n",
       "    </tr>\n",
       "  </tbody>\n",
       "</table>\n",
       "</div>"
      ],
      "text/plain": [
       "  platform  ad_id\n",
       "2      web     53\n",
       "1      ios     92\n",
       "0  android    141"
      ]
     },
     "execution_count": 83,
     "metadata": {},
     "output_type": "execute_result"
    }
   ],
   "source": [
    "ads_data[ads_data.ad_id.isin(ads_ids_bug)] \\\n",
    "    .groupby('platform', as_index=False) \\\n",
    "    .agg({'ad_id': 'count'}) \\\n",
    "    .sort_values('ad_id')"
   ]
  },
  {
   "cell_type": "code",
   "execution_count": 84,
   "id": "fd3e6808",
   "metadata": {},
   "outputs": [
    {
     "data": {
      "text/html": [
       "<div>\n",
       "<style scoped>\n",
       "    .dataframe tbody tr th:only-of-type {\n",
       "        vertical-align: middle;\n",
       "    }\n",
       "\n",
       "    .dataframe tbody tr th {\n",
       "        vertical-align: top;\n",
       "    }\n",
       "\n",
       "    .dataframe thead th {\n",
       "        text-align: right;\n",
       "    }\n",
       "</style>\n",
       "<table border=\"1\" class=\"dataframe\">\n",
       "  <thead>\n",
       "    <tr style=\"text-align: right;\">\n",
       "      <th></th>\n",
       "      <th>platform</th>\n",
       "      <th>ad_id</th>\n",
       "    </tr>\n",
       "  </thead>\n",
       "  <tbody>\n",
       "    <tr>\n",
       "      <th>2</th>\n",
       "      <td>web</td>\n",
       "      <td>635425</td>\n",
       "    </tr>\n",
       "    <tr>\n",
       "      <th>1</th>\n",
       "      <td>ios</td>\n",
       "      <td>953078</td>\n",
       "    </tr>\n",
       "    <tr>\n",
       "      <th>0</th>\n",
       "      <td>android</td>\n",
       "      <td>1588211</td>\n",
       "    </tr>\n",
       "  </tbody>\n",
       "</table>\n",
       "</div>"
      ],
      "text/plain": [
       "  platform    ad_id\n",
       "2      web   635425\n",
       "1      ios   953078\n",
       "0  android  1588211"
      ]
     },
     "execution_count": 84,
     "metadata": {},
     "output_type": "execute_result"
    }
   ],
   "source": [
    "ads_data \\\n",
    "    .groupby('platform', as_index=False) \\\n",
    "    .agg({'ad_id': 'count'}) \\\n",
    "    .sort_values('ad_id')"
   ]
  },
  {
   "cell_type": "code",
   "execution_count": 15,
   "id": "eaf06df7",
   "metadata": {},
   "outputs": [
    {
     "data": {
      "text/html": [
       "<div>\n",
       "<style scoped>\n",
       "    .dataframe tbody tr th:only-of-type {\n",
       "        vertical-align: middle;\n",
       "    }\n",
       "\n",
       "    .dataframe tbody tr th {\n",
       "        vertical-align: top;\n",
       "    }\n",
       "\n",
       "    .dataframe thead th {\n",
       "        text-align: right;\n",
       "    }\n",
       "</style>\n",
       "<table border=\"1\" class=\"dataframe\">\n",
       "  <thead>\n",
       "    <tr style=\"text-align: right;\">\n",
       "      <th></th>\n",
       "      <th>ad_id</th>\n",
       "      <th>time</th>\n",
       "      <th>event</th>\n",
       "      <th>date</th>\n",
       "      <th>ad_cost_type</th>\n",
       "      <th>has_video</th>\n",
       "      <th>client_union_id</th>\n",
       "      <th>campaign_union_id</th>\n",
       "      <th>platform</th>\n",
       "      <th>ad_cost</th>\n",
       "      <th>target_audience_count</th>\n",
       "      <th>user_id</th>\n",
       "      <th>full_date</th>\n",
       "    </tr>\n",
       "  </thead>\n",
       "  <tbody>\n",
       "    <tr>\n",
       "      <th>0</th>\n",
       "      <td>23456</td>\n",
       "      <td>1554076848</td>\n",
       "      <td>view</td>\n",
       "      <td>2019-04-01</td>\n",
       "      <td>CPM</td>\n",
       "      <td>0</td>\n",
       "      <td>5681</td>\n",
       "      <td>23456</td>\n",
       "      <td>android</td>\n",
       "      <td>190.0</td>\n",
       "      <td>125560</td>\n",
       "      <td>793</td>\n",
       "      <td>2019-04-01 00:00:48</td>\n",
       "    </tr>\n",
       "    <tr>\n",
       "      <th>1</th>\n",
       "      <td>111941</td>\n",
       "      <td>1554135866</td>\n",
       "      <td>view</td>\n",
       "      <td>2019-04-01</td>\n",
       "      <td>CPM</td>\n",
       "      <td>0</td>\n",
       "      <td>111793</td>\n",
       "      <td>111941</td>\n",
       "      <td>ios</td>\n",
       "      <td>215.2</td>\n",
       "      <td>32277</td>\n",
       "      <td>1041</td>\n",
       "      <td>2019-04-01 16:24:26</td>\n",
       "    </tr>\n",
       "    <tr>\n",
       "      <th>2</th>\n",
       "      <td>111941</td>\n",
       "      <td>1554135866</td>\n",
       "      <td>view</td>\n",
       "      <td>2019-04-01</td>\n",
       "      <td>CPM</td>\n",
       "      <td>0</td>\n",
       "      <td>111793</td>\n",
       "      <td>111941</td>\n",
       "      <td>ios</td>\n",
       "      <td>215.2</td>\n",
       "      <td>32277</td>\n",
       "      <td>41</td>\n",
       "      <td>2019-04-01 16:24:26</td>\n",
       "    </tr>\n",
       "    <tr>\n",
       "      <th>3</th>\n",
       "      <td>42987</td>\n",
       "      <td>1554135866</td>\n",
       "      <td>view</td>\n",
       "      <td>2019-04-01</td>\n",
       "      <td>CPM</td>\n",
       "      <td>0</td>\n",
       "      <td>28541</td>\n",
       "      <td>42985</td>\n",
       "      <td>ios</td>\n",
       "      <td>199.1</td>\n",
       "      <td>80160</td>\n",
       "      <td>898</td>\n",
       "      <td>2019-04-01 16:24:26</td>\n",
       "    </tr>\n",
       "    <tr>\n",
       "      <th>4</th>\n",
       "      <td>23456</td>\n",
       "      <td>1554135866</td>\n",
       "      <td>view</td>\n",
       "      <td>2019-04-01</td>\n",
       "      <td>CPM</td>\n",
       "      <td>0</td>\n",
       "      <td>5681</td>\n",
       "      <td>23456</td>\n",
       "      <td>web</td>\n",
       "      <td>190.0</td>\n",
       "      <td>125560</td>\n",
       "      <td>29</td>\n",
       "      <td>2019-04-01 16:24:26</td>\n",
       "    </tr>\n",
       "  </tbody>\n",
       "</table>\n",
       "</div>"
      ],
      "text/plain": [
       "    ad_id        time event       date ad_cost_type  has_video  \\\n",
       "0   23456  1554076848  view 2019-04-01          CPM          0   \n",
       "1  111941  1554135866  view 2019-04-01          CPM          0   \n",
       "2  111941  1554135866  view 2019-04-01          CPM          0   \n",
       "3   42987  1554135866  view 2019-04-01          CPM          0   \n",
       "4   23456  1554135866  view 2019-04-01          CPM          0   \n",
       "\n",
       "   client_union_id  campaign_union_id platform  ad_cost  \\\n",
       "0             5681              23456  android    190.0   \n",
       "1           111793             111941      ios    215.2   \n",
       "2           111793             111941      ios    215.2   \n",
       "3            28541              42985      ios    199.1   \n",
       "4             5681              23456      web    190.0   \n",
       "\n",
       "   target_audience_count  user_id           full_date  \n",
       "0                 125560      793 2019-04-01 00:00:48  \n",
       "1                  32277     1041 2019-04-01 16:24:26  \n",
       "2                  32277       41 2019-04-01 16:24:26  \n",
       "3                  80160      898 2019-04-01 16:24:26  \n",
       "4                 125560       29 2019-04-01 16:24:26  "
      ]
     },
     "execution_count": 15,
     "metadata": {},
     "output_type": "execute_result"
    }
   ],
   "source": [
    "ads_data.head()"
   ]
  },
  {
   "cell_type": "code",
   "execution_count": 118,
   "id": "9462d8eb",
   "metadata": {},
   "outputs": [],
   "source": [
    "# Есть ли различия в CTR у объявлений с видео и без? А чему равняется 95 процентиль CTR по всем объявлениям за 2019-04-04?"
   ]
  },
  {
   "cell_type": "code",
   "execution_count": 97,
   "id": "a238ac34",
   "metadata": {},
   "outputs": [
    {
     "data": {
      "text/html": [
       "<div>\n",
       "<style scoped>\n",
       "    .dataframe tbody tr th:only-of-type {\n",
       "        vertical-align: middle;\n",
       "    }\n",
       "\n",
       "    .dataframe tbody tr th {\n",
       "        vertical-align: top;\n",
       "    }\n",
       "\n",
       "    .dataframe thead th {\n",
       "        text-align: right;\n",
       "    }\n",
       "</style>\n",
       "<table border=\"1\" class=\"dataframe\">\n",
       "  <thead>\n",
       "    <tr style=\"text-align: right;\">\n",
       "      <th>has_video</th>\n",
       "      <th>event</th>\n",
       "      <th>0</th>\n",
       "      <th>1</th>\n",
       "    </tr>\n",
       "  </thead>\n",
       "  <tbody>\n",
       "    <tr>\n",
       "      <th>0</th>\n",
       "      <td>click</td>\n",
       "      <td>1515</td>\n",
       "      <td>2</td>\n",
       "    </tr>\n",
       "    <tr>\n",
       "      <th>1</th>\n",
       "      <td>view</td>\n",
       "      <td>126072</td>\n",
       "      <td>110</td>\n",
       "    </tr>\n",
       "  </tbody>\n",
       "</table>\n",
       "</div>"
      ],
      "text/plain": [
       "has_video  event       0    1\n",
       "0          click    1515    2\n",
       "1           view  126072  110"
      ]
     },
     "execution_count": 97,
     "metadata": {},
     "output_type": "execute_result"
    }
   ],
   "source": [
    "ads_data[ads_data.date == '2019-04-04'].groupby(['event', 'has_video'], as_index=False) \\\n",
    "    .agg({'time': 'count'}) \\\n",
    "    .pivot(index='event', columns='has_video', values='time').reset_index() \n",
    "# \\\n",
    "#     .drop('events', axis=1)\n"
   ]
  },
  {
   "cell_type": "code",
   "execution_count": 63,
   "id": "713ce016",
   "metadata": {
    "scrolled": true
   },
   "outputs": [],
   "source": [
    "df_2019_04_04 =  ads_data[ads_data.date == '2019-04-04'].groupby(['ad_id', 'event'], as_index=False) \\\n",
    "    .agg({'time': 'count'}) \\\n",
    "    .pivot(index='ad_id', columns='event', values='time').reset_index() \\\n",
    "    .fillna(0)\n",
    "df_2019_04_04;"
   ]
  },
  {
   "cell_type": "code",
   "execution_count": 64,
   "id": "40cfc427",
   "metadata": {},
   "outputs": [],
   "source": [
    "df_2019_04_04['ctr'] = df_2019_04_04.click / df_2019_04_04.view\n",
    "df_2019_04_04['ctr'];"
   ]
  },
  {
   "cell_type": "code",
   "execution_count": 6,
   "id": "1a21a5ee",
   "metadata": {},
   "outputs": [
    {
     "data": {
      "text/plain": [
       "0.10211538461538454"
      ]
     },
     "execution_count": 6,
     "metadata": {},
     "output_type": "execute_result"
    }
   ],
   "source": [
    "df_2019_04_04[df_2019_04_04.click > 0].ctr.quantile(q=0.95)"
   ]
  },
  {
   "cell_type": "code",
   "execution_count": null,
   "id": "27bc67ae",
   "metadata": {},
   "outputs": [],
   "source": []
  },
  {
   "cell_type": "code",
   "execution_count": null,
   "id": "129dc6fd",
   "metadata": {},
   "outputs": [],
   "source": [
    "# Для финансового отчета нужно рассчитать наш заработок по дням. \n",
    "# В какой день мы заработали больше всего? В какой меньше? \n",
    "# Мы списываем с клиентов деньги, если произошел клик по CPC объявлению, \n",
    "# и мы списываем деньги за каждый показ CPM объявления, если у \n",
    "# CPM объявления цена - 200 рублей, то за один показ мы зарабатываем 200 / 1000.\n"
   ]
  },
  {
   "cell_type": "code",
   "execution_count": 8,
   "id": "1305c097",
   "metadata": {},
   "outputs": [
    {
     "data": {
      "text/plain": [
       "84810.0"
      ]
     },
     "execution_count": 8,
     "metadata": {},
     "output_type": "execute_result"
    }
   ],
   "source": [
    "ads_data[(ads_data.ad_cost_type == 'CPC') &  (ads_data.event == 'click')].ad_cost.sum()"
   ]
  },
  {
   "cell_type": "code",
   "execution_count": 9,
   "id": "b58d86bd",
   "metadata": {},
   "outputs": [
    {
     "data": {
      "text/plain": [
       "497090.6778000003"
      ]
     },
     "execution_count": 9,
     "metadata": {},
     "output_type": "execute_result"
    }
   ],
   "source": [
    "ads_data[(ads_data.ad_cost_type == 'CPM') &  (ads_data.event == 'view')].ad_cost.sum() / 1000"
   ]
  },
  {
   "cell_type": "code",
   "execution_count": 155,
   "id": "02aec561",
   "metadata": {},
   "outputs": [],
   "source": [
    "# А есть ли такие объявления, по которым сначала произошел клик, а только потом показ?"
   ]
  },
  {
   "cell_type": "code",
   "execution_count": 22,
   "id": "20da1909",
   "metadata": {},
   "outputs": [
    {
     "data": {
      "text/html": [
       "<div>\n",
       "<style scoped>\n",
       "    .dataframe tbody tr th:only-of-type {\n",
       "        vertical-align: middle;\n",
       "    }\n",
       "\n",
       "    .dataframe tbody tr th {\n",
       "        vertical-align: top;\n",
       "    }\n",
       "\n",
       "    .dataframe thead th {\n",
       "        text-align: right;\n",
       "    }\n",
       "</style>\n",
       "<table border=\"1\" class=\"dataframe\">\n",
       "  <thead>\n",
       "    <tr style=\"text-align: right;\">\n",
       "      <th>event</th>\n",
       "      <th>ad_id</th>\n",
       "      <th>click</th>\n",
       "      <th>view</th>\n",
       "    </tr>\n",
       "  </thead>\n",
       "  <tbody>\n",
       "    <tr>\n",
       "      <th>27</th>\n",
       "      <td>16548</td>\n",
       "      <td>1.554336e+09</td>\n",
       "      <td>1.554336e+09</td>\n",
       "    </tr>\n",
       "    <tr>\n",
       "      <th>81</th>\n",
       "      <td>30939</td>\n",
       "      <td>1.554165e+09</td>\n",
       "      <td>1.554173e+09</td>\n",
       "    </tr>\n",
       "    <tr>\n",
       "      <th>138</th>\n",
       "      <td>40464</td>\n",
       "      <td>1.554164e+09</td>\n",
       "      <td>1.554164e+09</td>\n",
       "    </tr>\n",
       "    <tr>\n",
       "      <th>158</th>\n",
       "      <td>42007</td>\n",
       "      <td>1.554423e+09</td>\n",
       "      <td>1.554423e+09</td>\n",
       "    </tr>\n",
       "    <tr>\n",
       "      <th>185</th>\n",
       "      <td>44543</td>\n",
       "      <td>1.554336e+09</td>\n",
       "      <td>1.554337e+09</td>\n",
       "    </tr>\n",
       "    <tr>\n",
       "      <th>201</th>\n",
       "      <td>45436</td>\n",
       "      <td>1.554336e+09</td>\n",
       "      <td>1.554336e+09</td>\n",
       "    </tr>\n",
       "    <tr>\n",
       "      <th>324</th>\n",
       "      <td>119450</td>\n",
       "      <td>1.554336e+09</td>\n",
       "      <td>1.554336e+09</td>\n",
       "    </tr>\n",
       "  </tbody>\n",
       "</table>\n",
       "</div>"
      ],
      "text/plain": [
       "event   ad_id         click          view\n",
       "27      16548  1.554336e+09  1.554336e+09\n",
       "81      30939  1.554165e+09  1.554173e+09\n",
       "138     40464  1.554164e+09  1.554164e+09\n",
       "158     42007  1.554423e+09  1.554423e+09\n",
       "185     44543  1.554336e+09  1.554337e+09\n",
       "201     45436  1.554336e+09  1.554336e+09\n",
       "324    119450  1.554336e+09  1.554336e+09"
      ]
     },
     "execution_count": 22,
     "metadata": {},
     "output_type": "execute_result"
    }
   ],
   "source": [
    "ads_data.groupby(['ad_id', 'event'], as_index=False) \\\n",
    "    .agg({'time': 'min'}) \\\n",
    "    .pivot(index='ad_id', columns='event', values='time').reset_index() \\\n",
    "    .query('click < view')"
   ]
  },
  {
   "cell_type": "code",
   "execution_count": 65,
   "id": "1b884c12",
   "metadata": {
    "scrolled": true
   },
   "outputs": [],
   "source": [
    "ads_data[ads_data.ad_id == 16548].sort_values('time');"
   ]
  },
  {
   "cell_type": "markdown",
   "id": "6106da3a",
   "metadata": {},
   "source": [
    "#### Какая платформа самая популярная для размещения рекламных объявлений? "
   ]
  },
  {
   "cell_type": "code",
   "execution_count": 45,
   "id": "370d4310",
   "metadata": {},
   "outputs": [
    {
     "data": {
      "text/html": [
       "<div>\n",
       "<style scoped>\n",
       "    .dataframe tbody tr th:only-of-type {\n",
       "        vertical-align: middle;\n",
       "    }\n",
       "\n",
       "    .dataframe tbody tr th {\n",
       "        vertical-align: top;\n",
       "    }\n",
       "\n",
       "    .dataframe thead th {\n",
       "        text-align: right;\n",
       "    }\n",
       "</style>\n",
       "<table border=\"1\" class=\"dataframe\">\n",
       "  <thead>\n",
       "    <tr style=\"text-align: right;\">\n",
       "      <th></th>\n",
       "      <th>platform</th>\n",
       "      <th>ad_id</th>\n",
       "    </tr>\n",
       "  </thead>\n",
       "  <tbody>\n",
       "    <tr>\n",
       "      <th>0</th>\n",
       "      <td>android</td>\n",
       "      <td>1588211</td>\n",
       "    </tr>\n",
       "    <tr>\n",
       "      <th>1</th>\n",
       "      <td>ios</td>\n",
       "      <td>953078</td>\n",
       "    </tr>\n",
       "    <tr>\n",
       "      <th>2</th>\n",
       "      <td>web</td>\n",
       "      <td>635425</td>\n",
       "    </tr>\n",
       "  </tbody>\n",
       "</table>\n",
       "</div>"
      ],
      "text/plain": [
       "  platform    ad_id\n",
       "0  android  1588211\n",
       "1      ios   953078\n",
       "2      web   635425"
      ]
     },
     "execution_count": 45,
     "metadata": {},
     "output_type": "execute_result"
    }
   ],
   "source": [
    "ads_data.groupby('platform',as_index=False) \\\n",
    ".agg({'ad_id': 'count'})"
   ]
  },
  {
   "cell_type": "code",
   "execution_count": 43,
   "id": "155fb1c6",
   "metadata": {
    "scrolled": true
   },
   "outputs": [
    {
     "data": {
      "image/png": "[encoded data removed]",
      "text/plain": [
       "<Figure size 432x288 with 1 Axes>"
      ]
     },
     "metadata": {},
     "output_type": "display_data"
    }
   ],
   "source": [
    "ads_data.groupby('platform') \\\n",
    ".agg({'ad_id': 'count'}).plot.pie(subplots=True);"
   ]
  },
  {
   "cell_type": "markdown",
   "id": "b13a0ba2",
   "metadata": {},
   "source": [
    "#### Сколько процентов показов приходится на каждую из платформ (колонка platform)?\n"
   ]
  },
  {
   "cell_type": "code",
   "execution_count": 56,
   "id": "cf966ee5",
   "metadata": {},
   "outputs": [
    {
     "data": {
      "text/html": [
       "<div>\n",
       "<style scoped>\n",
       "    .dataframe tbody tr th:only-of-type {\n",
       "        vertical-align: middle;\n",
       "    }\n",
       "\n",
       "    .dataframe tbody tr th {\n",
       "        vertical-align: top;\n",
       "    }\n",
       "\n",
       "    .dataframe thead th {\n",
       "        text-align: right;\n",
       "    }\n",
       "</style>\n",
       "<table border=\"1\" class=\"dataframe\">\n",
       "  <thead>\n",
       "    <tr style=\"text-align: right;\">\n",
       "      <th></th>\n",
       "      <th>platform</th>\n",
       "      <th>ad_id</th>\n",
       "      <th>per</th>\n",
       "    </tr>\n",
       "  </thead>\n",
       "  <tbody>\n",
       "    <tr>\n",
       "      <th>0</th>\n",
       "      <td>android</td>\n",
       "      <td>1295189</td>\n",
       "      <td>50.021763</td>\n",
       "    </tr>\n",
       "    <tr>\n",
       "      <th>1</th>\n",
       "      <td>ios</td>\n",
       "      <td>776114</td>\n",
       "      <td>29.974460</td>\n",
       "    </tr>\n",
       "    <tr>\n",
       "      <th>2</th>\n",
       "      <td>web</td>\n",
       "      <td>517948</td>\n",
       "      <td>20.003777</td>\n",
       "    </tr>\n",
       "  </tbody>\n",
       "</table>\n",
       "</div>"
      ],
      "text/plain": [
       "  platform    ad_id        per\n",
       "0  android  1295189  50.021763\n",
       "1      ios   776114  29.974460\n",
       "2      web   517948  20.003777"
      ]
     },
     "execution_count": 56,
     "metadata": {},
     "output_type": "execute_result"
    }
   ],
   "source": [
    "view_only = ads_data.query(\"event=='view'\")\\\n",
    "                    .groupby('platform',as_index=False) \\\n",
    "                    .agg({'ad_id': 'count'})\n",
    "all_ads_amount = view_only.ad_id.sum()\n",
    "view_only['per'] = view_only.ad_id / all_ads_amount * 100\n",
    "view_only"
   ]
  },
  {
   "cell_type": "code",
   "execution_count": null,
   "id": "f6028ed4",
   "metadata": {},
   "outputs": [],
   "source": []
  }
 ],
 "metadata": {
  "kernelspec": {
   "display_name": "Python 3 (ipykernel)",
   "language": "python",
   "name": "python3"
  },
  "language_info": {
   "codemirror_mode": {
    "name": "ipython",
    "version": 3
   },
   "file_extension": ".py",
   "mimetype": "text/x-python",
   "name": "python",
   "nbconvert_exporter": "python",
   "pygments_lexer": "ipython3",
   "version": "3.9.7"
  }
 },
 "nbformat": 4,
 "nbformat_minor": 5
}
